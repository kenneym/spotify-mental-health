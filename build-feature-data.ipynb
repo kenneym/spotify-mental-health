{
 "cells": [
  {
   "cell_type": "code",
   "execution_count": 1,
   "metadata": {},
   "outputs": [],
   "source": [
    "import spotipy\n",
    "from spotipy.oauth2 import SpotifyClientCredentials\n",
    "import json\n",
    "import time\n",
    "import os, sys\n",
    "import pandas as pd\n",
    "\n",
    "\n",
    "# loop through files in Raw Directory\n",
    "path = \"/Users/Soohwan/Documents/Dartmouth/20-21/20F/COSC 89.20/FinalProject/data/raw-song-data/\"\n",
    "returnPath = \"/Users/Soohwan/Documents/Dartmouth/20-21/20F/COSC 89.20/FinalProject/data/processed-song-data/\"\n",
    "\n",
    "dirs = os.listdir(path)\n",
    "\n",
    "for file in dirs:\n",
    "    \n",
    "    if (file.endswith('.csv')):\n",
    "        \n",
    "        # Create dataframe from csv\n",
    "        df = pd.read_csv(path+file)\n",
    "        urls= df['URL'].tolist()\n",
    "\n",
    "        #Create Spotipy Client & Connect to Server Project\n",
    "        sp = spotipy.Spotify(auth_manager=SpotifyClientCredentials(client_id=\"e5cb4e77a72a4317a0720a4645d4ec71\",\n",
    "                                                                   client_secret=\"736358fc434f4945ba0e3735e30e9a01\"))\n",
    "\n",
    "        # build feathres table\n",
    "        features = pd.DataFrame()\n",
    "        for url in urls:\n",
    "            feature=sp.audio_features(url)\n",
    "            jdata = json.loads(json.dumps(feature, indent=4))\n",
    "            extra = pd.DataFrame(jdata)\n",
    "            features=features.append(extra,sort=False)\n",
    "            features=features.reset_index(drop=True)\n",
    "        result = pd.concat([df, features], axis=1, sort=False)\n",
    "        newFile=returnPath+\"processed-\"+file\n",
    "        result.to_csv(newFile, index = False)"
   ]
  },
  {
   "cell_type": "code",
   "execution_count": 52,
   "metadata": {},
   "outputs": [],
   "source": []
  },
  {
   "cell_type": "code",
   "execution_count": null,
   "metadata": {},
   "outputs": [],
   "source": []
  }
 ],
 "metadata": {
  "kernelspec": {
   "display_name": "Python 3",
   "language": "python",
   "name": "python3"
  },
  "language_info": {
   "codemirror_mode": {
    "name": "ipython",
    "version": 3
   },
   "file_extension": ".py",
   "mimetype": "text/x-python",
   "name": "python",
   "nbconvert_exporter": "python",
   "pygments_lexer": "ipython3",
   "version": "3.7.7"
  }
 },
 "nbformat": 4,
 "nbformat_minor": 4
}
